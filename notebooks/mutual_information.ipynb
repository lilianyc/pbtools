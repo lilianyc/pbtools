{
 "cells": [
  {
   "cell_type": "markdown",
   "metadata": {},
   "source": [
    "# Mutual information"
   ]
  },
  {
   "cell_type": "markdown",
   "metadata": {},
   "source": [
    "The mutual information is a statistic used to compute a correlation between two random variables, and defined by the formula\n",
    "$$\n",
    "I(A;B)=\\sum{_i}\\sum{_j}P(a_i,b_j)log[\\frac{P(a_i,b_j)}{P(a_i)P(b_j)}]\n",
    "$$\n",
    "\n",
    "where \n",
    "\n",
    "- $I(A; B)$ is the mutual information between variable A and B,\n",
    "- $i$ and $j$ the possible states of these variables\n",
    "- $P(a_i; b_j)$ is the probability of having $a_i$ and $b_j$ for A and B at the same time\n",
    "- $P(a_i)$ and $P(b_j)$ are the probability of having $a_i$ in A and $b_j$ in B respectively"
   ]
  },
  {
   "cell_type": "markdown",
   "metadata": {},
   "source": [
    "To find a correlation between positions in sequences of Protein Blocks (PB) we compute the Mutual Information (MI) for each combination of position so that\n",
    "\n",
    "- A and B represent a position in the sequence (A and B cannot be the same position)\n",
    "- *i* and *j* are the values of Protein Blocks (\"a\" to \"p\")\n",
    "- $P(a_i)$ and $P(b_j)$ are the probability of having a given protein block at a given position (obtained from the frequency of the PB at this position)\n",
    "- The base of the logarithm is 16 (the number of PB) to normalize the values so that the maximum is 1\n",
    "\n",
    "The number of operations rise exponentially the longer the sequence are."
   ]
  },
  {
   "cell_type": "markdown",
   "metadata": {},
   "source": [
    "## Using PBTools to compute the MI"
   ]
  },
  {
   "cell_type": "code",
   "execution_count": 1,
   "metadata": {},
   "outputs": [
    {
     "name": "stdout",
     "output_type": "stream",
     "text": [
      "0.1.0\n"
     ]
    }
   ],
   "source": [
    "import pbtools as pbt\n",
    "print(pbt.__version__)"
   ]
  },
  {
   "cell_type": "markdown",
   "metadata": {},
   "source": [
    "For the simple sequences \"aaa\" and \"cab\", we can represent it as the matrix\n",
    "\n",
    "|        |  0 |  1 |  2 |\n",
    "|--------|----|----|----|\n",
    "|  seq1  |  a |  a |  a |\n",
    "|  seq2  |  c |  a |  b |\n",
    "\n",
    "So \n",
    "$$\n",
    "I(pos0; pos1) =  \\\\\n",
    "P(a_{pos0}; a_{pos1}) \\times log\n",
    "[\\frac{P(a_{pos0}; a_{pos1})}{P(a_{pos0})\\times P(a_{pos1}})]\\\\\n",
    "+ P(a_{pos0}; a_{pos1}) \\times log\n",
    "[\\frac{P(a_{pos0}; a_{pos1})}{P(a_{pos0})\\times P(a_{pos1}})]\\\\\n",
    "+ P(c_{pos0}; a_{pos1}) \\times log\n",
    "[\\frac{P(c_{pos0}; a_{pos1})}{P(c_{pos0})\\times P(a_{pos1}})] \\\\\n",
    "+ P(c_{pos0}; a_{pos1}) \\times log\n",
    "[\\frac{P(c_{pos0}; a_{pos1})}{P(c_{pos0})\\times P(a_{pos1}})] \\\\\n",
    "= 0.5 \\times log(\\frac{0.5}{0.5}) \\\\\n",
    "= 0 = I(pos2; pos1)\n",
    "$$\n",
    "\n",
    "And \n",
    "\n",
    "$$\n",
    "I(pos0; pos2) = \\\\\n",
    "P(a_{pos0}; a_{pos2}) \\times log\n",
    "[\\frac{P(a_{pos0}; a_{pos2})}{P(a_{pos0})\\times P(a_{pos2}})]\\\\\n",
    "+ P(a_{pos0}; b_{pos2}) \\times log\n",
    "[\\frac{P(a_{pos0}; b_{pos2})}{P(a_{pos0})\\times P(b_{pos2}})]\\\\\n",
    "+ P(c_{pos0}; a_{pos2}) \\times log\n",
    "[\\frac{P(c_{pos0}; a_{pos2})}{P(c_{pos0})\\times P(a_{pos2}})] \\\\\n",
    "+ P(c_{pos0}; b_{pos2}) \\times log\n",
    "[\\frac{P(c_{pos0}; a_{pos2})}{P(c_{pos0})\\times P(b_{pos2}})] \\\\\n",
    "= 0.5 \\times log(\\frac{0.5}{0.5 \\times 0.5}) \\times 2 \\\\\n",
    "= 0.5 \\times 0.25 * 2 \\\\\n",
    "= 0.25\n",
    "$$"
   ]
  },
  {
   "cell_type": "code",
   "execution_count": 2,
   "metadata": {},
   "outputs": [
    {
     "data": {
      "text/plain": [
       "array([[0.  , 0.  , 0.25],\n",
       "       [0.  , 0.  , 0.  ],\n",
       "       [0.  , 0.  , 0.  ]])"
      ]
     },
     "execution_count": 2,
     "metadata": {},
     "output_type": "execute_result"
    }
   ],
   "source": [
    "pbt.mutual_information_matrix([\"aaa\", \"cab\"])"
   ]
  },
  {
   "cell_type": "markdown",
   "metadata": {},
   "source": [
    "We can observe that at position 0,2 the MI is 0.25 just as calculated earlier, so the matrix computed by PBTools is correct."
   ]
  }
 ],
 "metadata": {
  "kernelspec": {
   "display_name": "Python 3",
   "language": "python",
   "name": "python3"
  },
  "language_info": {
   "codemirror_mode": {
    "name": "ipython",
    "version": 3
   },
   "file_extension": ".py",
   "mimetype": "text/x-python",
   "name": "python",
   "nbconvert_exporter": "python",
   "pygments_lexer": "ipython3",
   "version": "3.7.4"
  }
 },
 "nbformat": 4,
 "nbformat_minor": 2
}
